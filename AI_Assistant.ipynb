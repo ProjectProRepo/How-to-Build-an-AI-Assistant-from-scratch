{
  "nbformat": 4,
  "nbformat_minor": 0,
  "metadata": {
    "colab": {
      "provenance": [],
      "gpuType": "T4",
      "authorship_tag": "ABX9TyM2vsrOARQR0vNKlSTcpMWC",
      "include_colab_link": true
    },
    "kernelspec": {
      "name": "python3",
      "display_name": "Python 3"
    },
    "language_info": {
      "name": "python"
    },
    "accelerator": "GPU"
  },
  "cells": [
    {
      "cell_type": "markdown",
      "metadata": {
        "id": "view-in-github",
        "colab_type": "text"
      },
      "source": [
        "<a href=\"https://colab.research.google.com/github/ProjectProRepo/How-to-Build-an-AI-Assistant-from-scratch/blob/main/AI_Assistant.ipynb\" target=\"_parent\"><img src=\"https://colab.research.google.com/assets/colab-badge.svg\" alt=\"Open In Colab\"/></a>"
      ]
    },
    {
      "cell_type": "code",
      "execution_count": null,
      "metadata": {
        "id": "ssaf1F9MgPYE"
      },
      "outputs": [],
      "source": [
        "pip install openai-whisper transformers torch accelerate pydub\n"
      ]
    },
    {
      "cell_type": "code",
      "source": [
        "from huggingface_hub import notebook_login\n",
        "notebook_login()  # Login with your HF token"
      ],
      "metadata": {
        "id": "YoiVRgnbhym-"
      },
      "execution_count": null,
      "outputs": []
    },
    {
      "cell_type": "code",
      "source": [
        "from google.colab import files\n",
        "uploaded = files.upload()  # Upload your .txt file here\n"
      ],
      "metadata": {
        "id": "Nq4s9wK9pHKg"
      },
      "execution_count": null,
      "outputs": []
    },
    {
      "cell_type": "code",
      "source": [
        "from transformers import pipeline\n",
        "import torch\n",
        "\n",
        "transcript_path = \"/content/sample_transcript.txt\"\n",
        "\n",
        "# --- Step 1: Load transcript from text file ---\n",
        "def load_transcript(file_path):\n",
        "    with open(file_path, \"r\") as f:\n",
        "        return f.read()\n",
        "\n",
        "# --- Step 2: Summarize using Open-source LLM ---\n",
        "def summarize_text(text, model_name=\"Falconsai/text_summarization\"):\n",
        "    print(\"Loading summarization model...\")\n",
        "    summarizer = pipeline(\"summarization\", model=model_name)\n",
        "    summary = summarizer(text, max_length=150, min_length=40, do_sample=False)[0]['summary_text']\n",
        "    return summary\n",
        "\n",
        "\n",
        "# --- Step 3: Main Function ---\n",
        "def run_note_taker(transcript_file):\n",
        "    transcript = load_transcript(transcript_file)\n",
        "    print(\"\\n--- Transcript ---\\n\", transcript)\n",
        "\n",
        "    summary = summarize_text(transcript)\n",
        "    print(\"\\n--- Summary ---\\n\", summary)\n",
        "\n",
        "    # Save to file\n",
        "    with open(\"meeting_notes.md\", \"w\") as f:\n",
        "        f.write(\"# Meeting Summary\\n\\n\")\n",
        "        f.write(summary)\n",
        "        f.write(\"\\n\\n---\\n\\n\")\n",
        "        f.write(\"## Full Transcript\\n\\n\")\n",
        "        f.write(transcript)\n",
        "\n",
        "# --- Example Run ---\n",
        "if __name__ == \"__main__\":\n",
        "    transcript_path = \"/content/sample_transcript.txt\"  # Your input\n",
        "    run_note_taker(transcript_path)\n"
      ],
      "metadata": {
        "id": "-IYz1i_1gWNO"
      },
      "execution_count": null,
      "outputs": []
    },
    {
      "cell_type": "code",
      "source": [
        "from IPython.display import FileLink\n",
        "FileLink(\"/content/meeting_notes.md\")"
      ],
      "metadata": {
        "colab": {
          "base_uri": "https://localhost:8080/",
          "height": 34
        },
        "id": "IXOxJqJAg466",
        "outputId": "fba263be-60f8-4ba4-eb6d-0174b1dd6282"
      },
      "execution_count": 5,
      "outputs": [
        {
          "output_type": "execute_result",
          "data": {
            "text/plain": [
              "/content/meeting_notes.md"
            ],
            "text/html": [
              "<a href='/content/meeting_notes.md' target='_blank'>/content/meeting_notes.md</a><br>"
            ]
          },
          "metadata": {},
          "execution_count": 5
        }
      ]
    }
  ]
}